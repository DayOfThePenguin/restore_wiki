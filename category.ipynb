{
 "metadata": {
  "language_info": {
   "codemirror_mode": {
    "name": "ipython",
    "version": 3
   },
   "file_extension": ".py",
   "mimetype": "text/x-python",
   "name": "python",
   "nbconvert_exporter": "python",
   "pygments_lexer": "ipython3",
   "version": "3.8.10"
  },
  "orig_nbformat": 2,
  "kernelspec": {
   "name": "pythonjvsc74a57bd0abea45b7c973306de9d802c3ee3e552deda7e2de4577ad1341732b7a50741558",
   "display_name": "Python 3.8.10 64-bit ('env': venv)"
  },
  "metadata": {
   "interpreter": {
    "hash": "abea45b7c973306de9d802c3ee3e552deda7e2de4577ad1341732b7a50741558"
   }
  }
 },
 "nbformat": 4,
 "nbformat_minor": 2,
 "cells": [
  {
   "source": [
    "# Subcategories by Category:\n",
    "- FA: 2773\n",
    "- FL: 2687\n",
    "- A: 2662\n",
    "- GA: 2819\n",
    "- B: 2894\n",
    "- C: 2891 "
   ],
   "cell_type": "markdown",
   "metadata": {}
  },
  {
   "cell_type": "code",
   "execution_count": 1,
   "metadata": {},
   "outputs": [],
   "source": [
    "import re\n",
    "from typing import Iterator"
   ]
  },
  {
   "cell_type": "code",
   "execution_count": 14,
   "metadata": {},
   "outputs": [],
   "source": [
    "line_start = re.compile(b\"INSERT INTO (.*?) VALUES \")\n",
    "item_ex = re.compile(b\"\\((.*?),'(.*?)',(.*?),(.*?),(.*?)\\)\")\n",
    "\n",
    "interesting_category_exps = [\n",
    "    re.compile(b\"^FA-Class_(.*?)_articles\"),\n",
    "    re.compile(b\"^FL-Class_(.*?)_articles\"),\n",
    "    re.compile(b\"^A-Class_(.*?)_articles\"),\n",
    "    re.compile(b\"^GA-Class_(.*?)_articles\"),\n",
    "    re.compile(b\"^B-Class_(.*?)_articles\"),\n",
    "    re.compile(b\"^C-Class_(.*?)_articles\"),\n",
    "    re.compile(b\"All_((.*?)\\d)_vital_articles\")\n",
    "]  # sorted by quality\n",
    "\n",
    "interesting_category_lists = [\n",
    "    [],  # FA\n",
    "    [],  # FL\n",
    "    [],  # A\n",
    "    [],  # GA\n",
    "    [],  # B\n",
    "    [],  # C\n",
    "    [], # Vital\n",
    "]"
   ]
  },
  {
   "cell_type": "code",
   "execution_count": 3,
   "metadata": {},
   "outputs": [],
   "source": [
    "def get_line_iterator(line) -> Iterator:\n",
    "    if line_start.search(line) is not None:\n",
    "        item_iter = item_ex.finditer(line)\n",
    "        return item_iter\n",
    "    else:\n",
    "        return None\n",
    "\n",
    "\n",
    "def find_interesting_categories(line_iter):\n",
    "    for entry in line_iter:\n",
    "        for i, exp in enumerate(interesting_category_exps):\n",
    "            result = exp.match(entry.group(2))\n",
    "            if result is not None:\n",
    "                interesting_category_lists[i].append(result.group(1))\n",
    "\n",
    "\n",
    "def process_line(line):\n",
    "    line_iter = get_line_iterator(line)\n",
    "    if line_iter is None:\n",
    "        return 0\n",
    "    find_interesting_categories(line_iter)"
   ]
  },
  {
   "cell_type": "code",
   "execution_count": 15,
   "metadata": {},
   "outputs": [],
   "source": [
    "with open(\"data/enwiki-20210520-category.sql\", \"rb\") as file:\n",
    "    for line in file:\n",
    "        process_line(line)"
   ]
  },
  {
   "cell_type": "code",
   "execution_count": 16,
   "metadata": {},
   "outputs": [
    {
     "output_type": "stream",
     "name": "stdout",
     "text": [
      "2773\n2687\n2662\n2819\n2894\n2891\n5\n"
     ]
    }
   ],
   "source": [
    "for row in interesting_category_lists:\n",
    "    print(len(row))"
   ]
  },
  {
   "cell_type": "code",
   "execution_count": 17,
   "metadata": {},
   "outputs": [
    {
     "output_type": "execute_result",
     "data": {
      "text/plain": [
       "[b'Wikipedia_level-3',\n",
       " b'Wikipedia_level-1',\n",
       " b'Wikipedia_level-2',\n",
       " b'Wikipedia_level-4',\n",
       " b'Wikipedia_level-5']"
      ]
     },
     "metadata": {},
     "execution_count": 17
    }
   ],
   "source": [
    "interesting_category_lists[6]"
   ]
  }
 ]
}