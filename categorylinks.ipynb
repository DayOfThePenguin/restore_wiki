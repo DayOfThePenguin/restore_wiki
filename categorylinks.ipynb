{
 "metadata": {
  "language_info": {
   "codemirror_mode": {
    "name": "ipython",
    "version": 3
   },
   "file_extension": ".py",
   "mimetype": "text/x-python",
   "name": "python",
   "nbconvert_exporter": "python",
   "pygments_lexer": "ipython3",
   "version": "3.8.10"
  },
  "orig_nbformat": 2,
  "kernelspec": {
   "name": "pythonjvsc74a57bd0abea45b7c973306de9d802c3ee3e552deda7e2de4577ad1341732b7a50741558",
   "display_name": "Python 3.8.10 64-bit ('env': venv)"
  },
  "metadata": {
   "interpreter": {
    "hash": "abea45b7c973306de9d802c3ee3e552deda7e2de4577ad1341732b7a50741558"
   }
  }
 },
 "nbformat": 4,
 "nbformat_minor": 2,
 "cells": [
  {
   "source": [
    "# enwiki-20210520-categorylinks Stats\n",
    "- 23530 lines\n",
    "- ~164,000,000 items\n",
    "- 151,894,856 'page' items\n",
    "\n",
    "```python\n",
    "(10,'Redirects_from_moves','*..2NN:,@2.FBHRP:D6\\x01\\x17\\x01\\xdc\\xbd\\xdc\\x0c','2014-10-26 04:50:23','','uca-default-u-kn','page')\n",
    "```"
   ],
   "cell_type": "markdown",
   "metadata": {}
  },
  {
   "cell_type": "code",
   "execution_count": 7,
   "metadata": {},
   "outputs": [],
   "source": [
    "import re\n",
    "from typing import Iterator\n",
    "\n",
    "import numpy as np"
   ]
  },
  {
   "cell_type": "code",
   "execution_count": 2,
   "metadata": {},
   "outputs": [],
   "source": [
    "line_start = re.compile(b\"INSERT INTO (.*?) VALUES \")\n",
    "item_ex = re.compile(b\"\\((.*?),'(.*?)','(.*?)','(.*?)','(.*?)','(.*?)','(.*?)'\\)\")\n",
    "\n",
    "interesting_category_exps = [\n",
    "    re.compile(b\"^FA-Class_(.*?)_articles\"),\n",
    "    re.compile(b\"^FL-Class_(.*?)_articles\"),\n",
    "    re.compile(b\"^A-Class_(.*?)_articles\"),\n",
    "    re.compile(b\"^GA-Class_(.*?)_articles\"),\n",
    "    re.compile(b\"^B-Class_(.*?)_articles\"),\n",
    "    re.compile(b\"^C-Class_(.*?)_articles\"),\n",
    "]  # sorted by quality\n",
    "\n",
    "interesting_category_lists = [\n",
    "    [],  # FA\n",
    "    [],  # FL\n",
    "    [],  # A\n",
    "    [],  # GA\n",
    "    [],  # B\n",
    "    [],  # C\n",
    "]"
   ]
  },
  {
   "cell_type": "code",
   "execution_count": 3,
   "metadata": {},
   "outputs": [],
   "source": [
    "class FileProcesser:\n",
    "    def __init__(self):\n",
    "        self.num_items = 0\n",
    "\n",
    "    @staticmethod \n",
    "    def get_line_iterator(line) -> Iterator:\n",
    "        if line_start.search(line) is not None:\n",
    "            item_iter = item_ex.finditer(line)\n",
    "            return item_iter\n",
    "        else:\n",
    "            return None\n",
    "\n",
    "\n",
    "    def find_interesting_categories(self, line_iter):\n",
    "        for entry in line_iter:\n",
    "            if entry.group(7) != b\"page\":\n",
    "                continue\n",
    "            self.num_items += 1\n",
    "            if self.num_items % 10000000 == 0:\n",
    "                print(f\"searched {self.num_items} items\")\n",
    "                for row in interesting_category_lists:\n",
    "                    print(len(row))\n",
    "            for i, exp in enumerate(interesting_category_exps):\n",
    "                result = exp.match(entry.group(2))\n",
    "                if result is not None:\n",
    "                    interesting_category_lists[i].append([entry.group(1), entry.group(2), entry.group(7)])\n",
    "\n",
    "\n",
    "    def process_line(self, line):\n",
    "        line_iter = self.get_line_iterator(line)\n",
    "        if line_iter is None:\n",
    "            return 0\n",
    "        self.find_interesting_categories(line_iter)"
   ]
  },
  {
   "cell_type": "code",
   "execution_count": 4,
   "metadata": {
    "tags": []
   },
   "outputs": [
    {
     "output_type": "stream",
     "name": "stdout",
     "text": [
      "searched 10000000 items\n",
      "8544\n",
      "576\n",
      "479\n",
      "17227\n",
      "67163\n",
      "113283\n",
      "searched 20000000 items\n",
      "15286\n",
      "2004\n",
      "1533\n",
      "40592\n",
      "125190\n",
      "263864\n",
      "searched 30000000 items\n",
      "20891\n",
      "3205\n",
      "2146\n",
      "63108\n",
      "179453\n",
      "436431\n",
      "searched 40000000 items\n",
      "24469\n",
      "4482\n",
      "2782\n",
      "79191\n",
      "215932\n",
      "555499\n",
      "searched 50000000 items\n",
      "26657\n",
      "6339\n",
      "3160\n",
      "90337\n",
      "239996\n",
      "637791\n",
      "searched 60000000 items\n",
      "29285\n",
      "8171\n",
      "3582\n",
      "101177\n",
      "266839\n",
      "717924\n",
      "searched 70000000 items\n",
      "30803\n",
      "9598\n",
      "3993\n",
      "112608\n",
      "289325\n",
      "796615\n",
      "searched 80000000 items\n",
      "31680\n",
      "10991\n",
      "4350\n",
      "121576\n",
      "308619\n",
      "864808\n",
      "searched 90000000 items\n",
      "32347\n",
      "11787\n",
      "4561\n",
      "130394\n",
      "325657\n",
      "931752\n",
      "searched 100000000 items\n",
      "33476\n",
      "12887\n",
      "4675\n",
      "138305\n",
      "342344\n",
      "999591\n",
      "searched 110000000 items\n",
      "34276\n",
      "13659\n",
      "4835\n",
      "145303\n",
      "356907\n",
      "1063275\n",
      "searched 120000000 items\n",
      "34972\n",
      "14305\n",
      "4967\n",
      "150585\n",
      "372843\n",
      "1130415\n",
      "searched 130000000 items\n",
      "35481\n",
      "14821\n",
      "5090\n",
      "155764\n",
      "388731\n",
      "1203343\n",
      "searched 140000000 items\n",
      "36062\n",
      "15124\n",
      "5178\n",
      "160299\n",
      "404036\n",
      "1272297\n",
      "searched 150000000 items\n",
      "36328\n",
      "15447\n",
      "5231\n",
      "164692\n",
      "419817\n",
      "1363084\n"
     ]
    }
   ],
   "source": [
    "fp = FileProcesser()\n",
    "with open(\"data/enwiki-20210520-categorylinks.sql\", \"rb\") as file:\n",
    "    for line in file:\n",
    "        fp.process_line(line)"
   ]
  },
  {
   "cell_type": "code",
   "execution_count": 6,
   "metadata": {},
   "outputs": [
    {
     "output_type": "execute_result",
     "data": {
      "text/plain": [
       "151894856"
      ]
     },
     "metadata": {},
     "execution_count": 6
    }
   ],
   "source": [
    "fp.num_items"
   ]
  },
  {
   "cell_type": "code",
   "execution_count": 5,
   "metadata": {},
   "outputs": [
    {
     "output_type": "stream",
     "name": "stdout",
     "text": [
      "36335\n15458\n5239\n164965\n422165\n1377104\n"
     ]
    }
   ],
   "source": [
    "for row in interesting_category_lists:\n",
    "    print(len(row))"
   ]
  },
  {
   "cell_type": "code",
   "execution_count": 15,
   "metadata": {},
   "outputs": [
    {
     "output_type": "execute_result",
     "data": {
      "text/plain": [
       "[b'354', b'C-Class_Version_1.0_articles', b'page']"
      ]
     },
     "metadata": {},
     "execution_count": 15
    }
   ],
   "source": [
    "interesting_category_lists[5][0]"
   ]
  },
  {
   "cell_type": "code",
   "execution_count": 16,
   "metadata": {},
   "outputs": [
    {
     "output_type": "stream",
     "name": "stderr",
     "text": [
      "<ipython-input-16-f6a396bad7ea>:1: VisibleDeprecationWarning: Creating an ndarray from ragged nested sequences (which is a list-or-tuple of lists-or-tuples-or ndarrays with different lengths or shapes) is deprecated. If you meant to do this, you must specify 'dtype=object' when creating the ndarray.\n  np_array = np.array(interesting_category_lists)\n"
     ]
    }
   ],
   "source": [
    "np_array = np.array(interesting_category_lists)"
   ]
  },
  {
   "cell_type": "code",
   "execution_count": 18,
   "metadata": {},
   "outputs": [],
   "source": [
    "np.save(\"categorylinks\", np_array)"
   ]
  }
 ]
}